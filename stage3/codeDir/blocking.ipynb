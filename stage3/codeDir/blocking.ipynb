{
 "cells": [
  {
   "cell_type": "code",
   "execution_count": 1,
   "metadata": {
    "collapsed": false
   },
   "outputs": [],
   "source": [
    "import py_entitymatching as em\n",
    "import os"
   ]
  },
  {
   "cell_type": "code",
   "execution_count": 2,
   "metadata": {
    "collapsed": false
   },
   "outputs": [
    {
     "name": "stderr",
     "output_type": "stream",
     "text": [
      "No handlers could be found for logger \"py_entitymatching.io.parsers\"\n",
      "/home/hfu/anaconda2/lib/python2.7/site-packages/IPython/core/interactiveshell.py:2821: DtypeWarning: Columns (3) have mixed types. Specify dtype option on import or set low_memory=False.\n",
      "  if self.run_code(code, result):\n"
     ]
    }
   ],
   "source": [
    "path = 'Desktop/cs838_stage3/'\n",
    "movies = em.read_csv_metadata(path+'datasets/movies.csv', key='id')\n",
    "tracks = em.read_csv_metadata(path+'datasets/tracks.csv', key='id')"
   ]
  },
  {
   "cell_type": "code",
   "execution_count": 3,
   "metadata": {
    "collapsed": false
   },
   "outputs": [
    {
     "name": "stdout",
     "output_type": "stream",
     "text": [
      "finish pre-processing\n"
     ]
    }
   ],
   "source": [
    "movies['title'] = movies['title'].str.lower()\n",
    "tracks['title'] = tracks['title'].str.lower()\n",
    "\n",
    "movies['title'] = movies['title'].str.replace(r\"\\(.*\\)\",\"\")\n",
    "movies['title'] = movies['title'].str.replace(r\"\\[.*\\]\",\"\")\n",
    "movies['title'] = movies['title'].str.replace(r\"\\*.*\\*\",\"\")\n",
    "tracks['title'] = tracks['title'].str.replace(r\"\\(.*\\)\",\"\")\n",
    "tracks['title'] = tracks['title'].str.replace(r\"\\[.*\\]\",\"\")\n",
    "tracks['title'] = tracks['title'].str.replace(r\"\\*.*\\*\",\"\")\n",
    "print \"finish pre-processing\"\n",
    "em.to_csv_metadata(movies, path+'datasets/processed_a.csv');\n",
    "em.to_csv_metadata(tracks, path+'datasets/processed_b.csv');"
   ]
  },
  {
   "cell_type": "code",
   "execution_count": 4,
   "metadata": {
    "collapsed": true
   },
   "outputs": [],
   "source": [
    "processed_A = em.read_csv_metadata(path+'datasets/processed_a.csv');\n",
    "processed_B = em.read_csv_metadata(path+'datasets/processed_b.csv');"
   ]
  },
  {
   "cell_type": "code",
   "execution_count": 5,
   "metadata": {
    "collapsed": false
   },
   "outputs": [],
   "source": [
    "sample_movies, sample_tracks = em.down_sample(movies, tracks, size=2000, y_param=2, show_progress=False)\n",
    "em.set_key(sample_movies, 'id')\n",
    "em.set_key(sample_tracks, 'id')\n",
    "em.to_csv_metadata(sample_movies, path+'datasets/tmp_movies_8.csv')\n",
    "em.to_csv_metadata(sample_tracks, path+'datasets/tmp_tracks_8.csv')\n",
    "sample_movies = em.read_csv_metadata(path+'datasets/tmp_movies_8.csv')\n",
    "sample_tracks = em.read_csv_metadata(path+'datasets/tmp_tracks_8.csv')"
   ]
  },
  {
   "cell_type": "code",
   "execution_count": 6,
   "metadata": {
    "collapsed": true
   },
   "outputs": [],
   "source": [
    "ob = em.OverlapBlocker()\n",
    "ab = em.AttrEquivalenceBlocker()\n",
    "rb = em.RuleBasedBlocker()"
   ]
  },
  {
   "cell_type": "code",
   "execution_count": 7,
   "metadata": {
    "collapsed": true
   },
   "outputs": [],
   "source": [
    "C1 = ab.block_tables(sample_movies, sample_tracks, 'year', 'year', l_output_attrs=['title', 'year'], r_output_attrs=['title','year'])"
   ]
  },
  {
   "cell_type": "code",
   "execution_count": 8,
   "metadata": {
    "collapsed": false
   },
   "outputs": [
    {
     "name": "stderr",
     "output_type": "stream",
     "text": [
      "0%                          100%\n",
      "[##############################] | ETA: 00:00:02 | ETA: 00:00:02 | ETA: 00:00:01 | ETA: 00:00:01 | ETA: 00:00:01 | ETA: 00:00:01 | ETA: 00:00:01 | ETA: 00:00:01 | ETA: 00:00:01 | ETA: 00:00:01 | ETA: 00:00:01 | ETA: 00:00:01 | ETA: 00:00:01 | ETA: 00:00:01 | ETA: 00:00:01 | ETA: 00:00:01 | ETA: 00:00:00 | ETA: 00:00:00 | ETA: 00:00:00 | ETA: 00:00:00 | ETA: 00:00:00 | ETA: 00:00:00 | ETA: 00:00:00 | ETA: 00:00:00 | ETA: 00:00:00 | ETA: 00:00:00 | ETA: 00:00:00 | ETA: 00:00:00 | ETA: 00:00:00 | ETA: 00:00:00 | ETA: 00:00:00\n",
      "Total time elapsed: 00:00:02\n"
     ]
    }
   ],
   "source": [
    "C2 = ob.block_candset(C1, 'title', 'title', word_level=True, rem_stop_words=True, overlap_size=1)"
   ]
  },
  {
   "cell_type": "code",
   "execution_count": 9,
   "metadata": {
    "collapsed": true
   },
   "outputs": [],
   "source": [
    "block_f = em.get_features_for_blocking(sample_movies, sample_tracks);\n",
    "rb.add_rule(['title_title_cos_dlm_dc0_dlm_dc0(ltuple, rtuple) < 0.6'] ,block_f)\n",
    "C3 = rb.block_candset(C1, n_jobs=-1,show_progress = False)"
   ]
  },
  {
   "cell_type": "code",
   "execution_count": 10,
   "metadata": {
    "collapsed": true
   },
   "outputs": [],
   "source": [
    "D = em.combine_blocker_outputs_via_union([C2, C3])"
   ]
  },
  {
   "cell_type": "code",
   "execution_count": 11,
   "metadata": {
    "collapsed": false
   },
   "outputs": [
    {
     "data": {
      "text/plain": [
       "True"
      ]
     },
     "execution_count": 11,
     "metadata": {},
     "output_type": "execute_result"
    }
   ],
   "source": [
    "em.to_csv_metadata(D, path+'datasets/tbl_blocked.csv');\n",
    "tbl_blocked = em.read_csv_metadata(path+'datasets/tbl_blocked.csv',\\\n",
    " ltable=sample_movies, rtable=sample_tracks)\n",
    "\n",
    "S = em.sample_table(tbl_blocked, 400)\n",
    "em.to_csv_metadata(S, path+'datasets/sampled_8.csv')"
   ]
  }
 ],
 "metadata": {
  "kernelspec": {
   "display_name": "Python 2",
   "language": "python",
   "name": "python2"
  },
  "language_info": {
   "codemirror_mode": {
    "name": "ipython",
    "version": 2
   },
   "file_extension": ".py",
   "mimetype": "text/x-python",
   "name": "python",
   "nbconvert_exporter": "python",
   "pygments_lexer": "ipython2",
   "version": "2.7.13"
  }
 },
 "nbformat": 4,
 "nbformat_minor": 2
}
