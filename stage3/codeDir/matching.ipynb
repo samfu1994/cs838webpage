{
 "cells": [
  {
   "cell_type": "code",
   "execution_count": 34,
   "metadata": {
    "collapsed": true
   },
   "outputs": [],
   "source": [
    "import py_entitymatching as em\n",
    "import os"
   ]
  },
  {
   "cell_type": "code",
   "execution_count": 35,
   "metadata": {
    "collapsed": false
   },
   "outputs": [],
   "source": [
    "path = '../Desktop/cs838_stage3/'\n",
    "sampled_movies = em.read_csv_metadata(path+'datasets/tmp_movies_8.csv', key='id')\n",
    "sampled_tracks = em.read_csv_metadata(path+'datasets/tmp_tracks_8.csv', key='id')\n",
    "tbl_labeled = em.read_csv_metadata(path+'datasets/sampled_8.csv', ltable=sampled_movies, rtable=sampled_tracks)"
   ]
  },
  {
   "cell_type": "code",
   "execution_count": 36,
   "metadata": {
    "collapsed": false
   },
   "outputs": [
    {
     "data": {
      "text/plain": [
       "True"
      ]
     },
     "execution_count": 36,
     "metadata": {},
     "output_type": "execute_result"
    }
   ],
   "source": [
    "train_test = em.split_train_test(tbl_labeled, train_proportion=0.7)\n",
    "\n",
    "dev_set = train_test['train']\n",
    "eval_set = train_test['test']\n",
    "em.to_csv_metadata(dev_set, path+'datasets/dev_set.csv')\n",
    "em.to_csv_metadata(eval_set, path+'datasets/eval_set.csv')"
   ]
  },
  {
   "cell_type": "code",
   "execution_count": 37,
   "metadata": {
    "collapsed": true
   },
   "outputs": [],
   "source": [
    "match_t = em.get_tokenizers_for_matching()\n",
    "match_s = em.get_sim_funs_for_matching()\n",
    "atypes1 = em.get_attr_types(sampled_movies)\n",
    "atypes2 = em.get_attr_types(sampled_tracks)\n",
    "match_c = em.get_attr_corres(sampled_movies, sampled_tracks)\n",
    "match_f = em.get_features(sampled_movies, sampled_tracks, atypes1, atypes2, match_c, match_t, match_s)"
   ]
  },
  {
   "cell_type": "code",
   "execution_count": 38,
   "metadata": {
    "collapsed": true
   },
   "outputs": [],
   "source": [
    "H = em.extract_feature_vecs(dev_set, \n",
    "                            feature_table=match_f, \n",
    "                            attrs_after='label',\n",
    "                            show_progress=False)\n",
    "H.fillna(value=0, inplace=True)"
   ]
  },
  {
   "cell_type": "code",
   "execution_count": 39,
   "metadata": {
    "collapsed": true
   },
   "outputs": [],
   "source": [
    "dt = em.DTMatcher(name='DecisionTree', random_state=0)\n",
    "svm = em.SVMMatcher(name='SVM', random_state=0)\n",
    "rf = em.RFMatcher(name='RF', random_state=0)\n",
    "lg = em.LogRegMatcher(name='LogReg', random_state=0)\n",
    "ln = em.LinRegMatcher(name='LinReg')\n",
    "nb = em.NBMatcher(name='NaiveBayes')"
   ]
  },
  {
   "cell_type": "code",
   "execution_count": 40,
   "metadata": {
    "collapsed": false
   },
   "outputs": [
    {
     "name": "stdout",
     "output_type": "stream",
     "text": [
      "           Name  \\\n",
      "0  DecisionTree   \n",
      "1           SVM   \n",
      "2            RF   \n",
      "3        LogReg   \n",
      "4        LinReg   \n",
      "5    NaiveBayes   \n",
      "\n",
      "                                                                            Matcher  \\\n",
      "0          <py_entitymatching.matcher.dtmatcher.DTMatcher object at 0x7f09c6602e10>   \n",
      "1        <py_entitymatching.matcher.svmmatcher.SVMMatcher object at 0x7f09c6602910>   \n",
      "2          <py_entitymatching.matcher.rfmatcher.RFMatcher object at 0x7f09c6602cd0>   \n",
      "3  <py_entitymatching.matcher.logregmatcher.LogRegMatcher object at 0x7f09c66028d0>   \n",
      "4  <py_entitymatching.matcher.linregmatcher.LinRegMatcher object at 0x7f09c6603b50>   \n",
      "5          <py_entitymatching.matcher.nbmatcher.NBMatcher object at 0x7f09c66035d0>   \n",
      "\n",
      "   Num folds    Fold 1    Fold 2  Fold 3  Fold 4    Fold 5  Mean score  \n",
      "0          5  1.000000  0.571429     1.0     1.0  0.909091    0.896104  \n",
      "1          5  1.000000  0.833333     1.0     1.0  1.000000    0.966667  \n",
      "2          5  1.000000  0.888889     1.0     1.0  0.909091    0.959596  \n",
      "3          5  1.000000  0.888889     1.0     1.0  1.000000    0.977778  \n",
      "4          5  1.000000  0.888889     1.0     1.0  1.000000    0.977778  \n",
      "5          5  0.923077  0.888889     1.0     1.0  1.000000    0.962393  \n",
      "           Name  \\\n",
      "0  DecisionTree   \n",
      "1           SVM   \n",
      "2            RF   \n",
      "3        LogReg   \n",
      "4        LinReg   \n",
      "5    NaiveBayes   \n",
      "\n",
      "                                                                            Matcher  \\\n",
      "0          <py_entitymatching.matcher.dtmatcher.DTMatcher object at 0x7f09c6602e10>   \n",
      "1        <py_entitymatching.matcher.svmmatcher.SVMMatcher object at 0x7f09c6602910>   \n",
      "2          <py_entitymatching.matcher.rfmatcher.RFMatcher object at 0x7f09c6602cd0>   \n",
      "3  <py_entitymatching.matcher.logregmatcher.LogRegMatcher object at 0x7f09c66028d0>   \n",
      "4  <py_entitymatching.matcher.linregmatcher.LinRegMatcher object at 0x7f09c6603b50>   \n",
      "5          <py_entitymatching.matcher.nbmatcher.NBMatcher object at 0x7f09c66035d0>   \n",
      "\n",
      "   Num folds    Fold 1    Fold 2    Fold 3  Fold 4  Fold 5  Mean score  \n",
      "0          5  1.000000  0.888889  0.785714     0.6     1.0    0.854921  \n",
      "1          5  0.916667  0.555556  0.857143     0.8     0.9    0.805873  \n",
      "2          5  1.000000  0.888889  0.857143     0.8     1.0    0.909206  \n",
      "3          5  1.000000  0.888889  0.928571     0.8     1.0    0.923492  \n",
      "4          5  1.000000  0.888889  0.928571     0.8     1.0    0.923492  \n",
      "5          5  1.000000  0.888889  0.928571     0.8     1.0    0.923492  \n",
      "           Name  \\\n",
      "0  DecisionTree   \n",
      "1           SVM   \n",
      "2            RF   \n",
      "3        LogReg   \n",
      "4        LinReg   \n",
      "5    NaiveBayes   \n",
      "\n",
      "                                                                            Matcher  \\\n",
      "0          <py_entitymatching.matcher.dtmatcher.DTMatcher object at 0x7f09c6602e10>   \n",
      "1        <py_entitymatching.matcher.svmmatcher.SVMMatcher object at 0x7f09c6602910>   \n",
      "2          <py_entitymatching.matcher.rfmatcher.RFMatcher object at 0x7f09c6602cd0>   \n",
      "3  <py_entitymatching.matcher.logregmatcher.LogRegMatcher object at 0x7f09c66028d0>   \n",
      "4  <py_entitymatching.matcher.linregmatcher.LinRegMatcher object at 0x7f09c6603b50>   \n",
      "5          <py_entitymatching.matcher.nbmatcher.NBMatcher object at 0x7f09c66035d0>   \n",
      "\n",
      "   Num folds    Fold 1    Fold 2    Fold 3    Fold 4    Fold 5  Mean score  \n",
      "0          5  1.000000  0.695652  0.880000  0.750000  0.952381    0.855607  \n",
      "1          5  0.956522  0.666667  0.923077  0.888889  0.947368    0.876505  \n",
      "2          5  1.000000  0.888889  0.923077  0.888889  0.952381    0.930647  \n",
      "3          5  1.000000  0.888889  0.962963  0.888889  1.000000    0.948148  \n",
      "4          5  1.000000  0.888889  0.962963  0.888889  1.000000    0.948148  \n",
      "5          5  0.960000  0.888889  0.962963  0.888889  1.000000    0.940148  \n"
     ]
    }
   ],
   "source": [
    "result_p= em.select_matcher([dt, svm, rf, lg, ln, nb], table=H, \n",
    "        exclude_attrs=['_id', 'ltable_id', 'rtable_id', 'label'],\n",
    "        k=5,\n",
    "        target_attr='label', metric='precision', random_state=0)\n",
    "print result_p['cv_stats']\n",
    "\n",
    "# recall of matchers for 5-fold cross validations\n",
    "result_r= em.select_matcher([dt, svm, rf, lg, ln, nb], table=H, \n",
    "        exclude_attrs=['_id', 'ltable_id', 'rtable_id', 'label'],\n",
    "        k=5,\n",
    "        target_attr='label', metric='recall', random_state=0)\n",
    "print result_r['cv_stats']\n",
    "\n",
    "# F1 of matchers for 5-fold cross validations\n",
    "result_f1 = em.select_matcher([dt, svm, rf, lg, ln, nb], table=H, \n",
    "        exclude_attrs=['_id', 'ltable_id', 'rtable_id', 'label'],\n",
    "        k=5,\n",
    "        target_attr='label', metric='f1', random_state=0)\n",
    "print result_f1['cv_stats']"
   ]
  },
  {
   "cell_type": "code",
   "execution_count": 41,
   "metadata": {
    "collapsed": true
   },
   "outputs": [],
   "source": [
    "L = em.extract_feature_vecs(eval_set, feature_table=match_f,\n",
    "                            attrs_after='label', show_progress=False)\n",
    "\n",
    "L.fillna(value=0, inplace=True)\n",
    "\n",
    "# Training the best matcher using feature vectors from development set\n",
    "rf.fit(table=H, \n",
    "       exclude_attrs=['_id', 'ltable_id', 'rtable_id', 'label'], \n",
    "       target_attr='label')"
   ]
  },
  {
   "cell_type": "code",
   "execution_count": 42,
   "metadata": {
    "collapsed": false
   },
   "outputs": [
    {
     "name": "stdout",
     "output_type": "stream",
     "text": [
      "Precision : 93.75% (15/16)\n",
      "Recall : 100.0% (15/15)\n",
      "F1 : 96.77%\n",
      "False positives : 1 (out of 16 positive predictions)\n",
      "False negatives : 0 (out of 104 negative predictions)\n"
     ]
    }
   ],
   "source": [
    "predictions = rf.predict(table=L, exclude_attrs=['_id', 'ltable_id', 'rtable_id', 'label'], \n",
    "              append=True, target_attr='predicted', inplace=False)\n",
    "\n",
    "# evaluating the predictions\n",
    "eval_result = em.eval_matches(predictions, 'label', 'predicted')\n",
    "em.print_eval_summary(eval_result)"
   ]
  }
 ],
 "metadata": {
  "kernelspec": {
   "display_name": "Python 2",
   "language": "python",
   "name": "python2"
  },
  "language_info": {
   "codemirror_mode": {
    "name": "ipython",
    "version": 2
   },
   "file_extension": ".py",
   "mimetype": "text/x-python",
   "name": "python",
   "nbconvert_exporter": "python",
   "pygments_lexer": "ipython2",
   "version": "2.7.13"
  }
 },
 "nbformat": 4,
 "nbformat_minor": 2
}
